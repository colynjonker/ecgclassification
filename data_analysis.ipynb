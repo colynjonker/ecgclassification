{
 "cells": [
  {
   "cell_type": "markdown",
   "metadata": {
    "collapsed": true,
    "pycharm": {
     "name": "#%% md\n"
    }
   },
   "source": [
    "### Data Analysis\n",
    "We start by importing all required libraries for the program"
   ]
  },
  {
   "cell_type": "code",
   "execution_count": 1,
   "outputs": [
    {
     "name": "stdout",
     "output_type": "stream",
     "text": [
      "Loading beats took 81.8s\n"
     ]
    }
   ],
   "source": [
    "import wfdb\n",
    "from sklearn.model_selection import train_test_split\n",
    "\n",
    "import numpy as np\n",
    "import ecgclassification as ecg\n",
    "\n",
    "db = 'ecgclassification/mitdb/'\n",
    "beats = ecg.load_beats(db)"
   ],
   "metadata": {
    "collapsed": false,
    "pycharm": {
     "name": "#%%\n"
    }
   }
  },
  {
   "cell_type": "markdown",
   "source": [
    "After importing all files, we can count the occurrences of classes in all the records of the MIT-BIH Arrhythmia database.\n",
    "As can be seen, the number of classes of N are significantly more frequent in the dataset."
   ],
   "metadata": {
    "collapsed": false,
    "pycharm": {
     "name": "#%% md\n"
    }
   }
  },
  {
   "cell_type": "code",
   "execution_count": 2,
   "outputs": [
    {
     "name": "stdout",
     "output_type": "stream",
     "text": [
      "Patient  Counters\n",
      "100      {'N': 2239, 'A': 33, 'V': 1}\n",
      "101      {'N': 1860, 'Q': 2, 'A': 3}\n",
      "102      {'/': 2028, 'f': 56, 'N': 99, 'V': 4}\n",
      "103      {'N': 2082, 'A': 2}\n",
      "104      {'/': 1380, 'f': 666, 'Q': 18, 'N': 163, 'V': 2}\n",
      "105      {'N': 2526, 'V': 41, 'Q': 5}\n",
      "106      {'N': 1507, 'V': 520}\n",
      "107      {'/': 2078, 'V': 59}\n",
      "108      {'N': 1739, 'V': 17, 'F': 2, 'A': 4, 'j': 1}\n",
      "109      {'L': 2492, 'F': 2, 'V': 38}\n",
      "111      {'L': 2123, 'V': 1}\n",
      "112      {'N': 2537, 'A': 2}\n",
      "113      {'N': 1789, 'a': 6}\n",
      "114      {'N': 1820, 'V': 43, 'J': 2, 'F': 4, 'A': 10}\n",
      "115      {'N': 1953}\n",
      "116      {'N': 2302, 'V': 109, 'A': 1}\n",
      "117      {'N': 1534, 'A': 1}\n",
      "118      {'R': 2166, 'V': 16, 'A': 96}\n",
      "119      {'N': 1543, 'V': 444}\n",
      "121      {'N': 1861, 'A': 1, 'V': 1}\n",
      "122      {'N': 2476}\n",
      "123      {'N': 1515, 'V': 3}\n",
      "124      {'R': 1531, 'J': 29, 'V': 47, 'F': 5, 'A': 2, 'j': 5}\n",
      "200      {'V': 826, 'N': 1743, 'A': 30, 'F': 2}\n",
      "201      {'N': 1625, 'a': 97, 'j': 10, 'V': 198, 'A': 30, 'J': 1, 'F': 2}\n",
      "202      {'N': 2061, 'V': 19, 'A': 36, 'a': 19, 'F': 1}\n",
      "203      {'N': 2529, 'V': 444, 'a': 2, 'Q': 4, 'F': 1}\n",
      "205      {'N': 2571, 'V': 71, 'A': 3, 'F': 11}\n",
      "207      {'R': 86, 'V': 105, 'L': 1457, '!': 472, 'E': 105, 'A': 107}\n",
      "208      {'F': 373, 'V': 992, 'N': 1586, 'S': 2, 'Q': 2}\n",
      "209      {'N': 2621, 'A': 383, 'V': 1}\n",
      "210      {'N': 2423, 'V': 194, 'F': 10, 'a': 22, 'E': 1}\n",
      "212      {'R': 1825, 'N': 923}\n",
      "213      {'N': 2641, 'F': 362, 'A': 25, 'V': 220, 'a': 3}\n",
      "214      {'L': 2003, 'V': 256, 'Q': 2, 'F': 1}\n",
      "215      {'N': 3195, 'V': 164, 'A': 3, 'F': 1}\n",
      "217      {'/': 1542, 'f': 260, 'V': 162, 'N': 244}\n",
      "219      {'N': 2082, 'V': 64, 'F': 1, 'A': 7}\n",
      "220      {'N': 1954, 'A': 94}\n",
      "221      {'N': 2031, 'V': 396}\n",
      "222      {'N': 2062, 'A': 208, 'j': 212, 'J': 1}\n",
      "223      {'N': 2029, 'V': 473, 'A': 72, 'e': 16, 'F': 14, 'a': 1}\n",
      "228      {'N': 1688, 'V': 362, 'A': 3}\n",
      "230      {'N': 2255, 'V': 1}\n",
      "231      {'R': 1254, 'N': 314, 'A': 1, 'V': 2}\n",
      "232      {'R': 397, 'A': 1382, 'j': 1}\n",
      "233      {'V': 831, 'N': 2230, 'A': 7, 'F': 11}\n",
      "234      {'N': 2700, 'J': 50, 'V': 3}\n",
      "Key      Value          \n",
      "N        75052          \n",
      "A        2546           \n",
      "V        7130           \n",
      "Q        33             \n",
      "/        7028           \n",
      "f        982            \n",
      "F        803            \n",
      "j        229            \n",
      "L        8075           \n",
      "a        150            \n",
      "J        83             \n",
      "R        7259           \n",
      "!        472            \n",
      "E        106            \n",
      "S        2              \n",
      "e        16             \n"
     ]
    }
   ],
   "source": [
    "occurrences = ecg.count_occurrences(db)\n",
    "ecg.print_table(occurrences)\n",
    "total = ecg.count_total_occurrences(occurrences)\n",
    "ecg.pretty_print(total)"
   ],
   "metadata": {
    "collapsed": false,
    "pycharm": {
     "name": "#%%\n"
    }
   }
  },
  {
   "cell_type": "markdown",
   "source": [
    "Now that we have the total number of samples of classes in the dataset,\n",
    "we can group them according to the AAMI heartbeat standard five classes.\n",
    "Even though the number of samples have been resorted, there is still a skewed class distribution for the Normal class."
   ],
   "metadata": {
    "collapsed": false,
    "pycharm": {
     "name": "#%% md\n"
    }
   }
  },
  {
   "cell_type": "code",
   "execution_count": 3,
   "outputs": [
    {
     "name": "stdout",
     "output_type": "stream",
     "text": [
      "Key      Value          \n",
      "N        90631          \n",
      "SVEB     2781           \n",
      "VEB      7708           \n",
      "Q        8043           \n",
      "F        803            \n"
     ]
    }
   ],
   "source": [
    "aami_total = ecg.count_aami(total)\n",
    "ecg.pretty_print(aami_total)"
   ],
   "metadata": {
    "collapsed": false,
    "pycharm": {
     "name": "#%%\n"
    }
   }
  },
  {
   "cell_type": "markdown",
   "source": [
    "Now we will demonstrate some samples out of these different classes."
   ],
   "metadata": {
    "collapsed": false,
    "pycharm": {
     "name": "#%% md\n"
    }
   }
  },
  {
   "cell_type": "code",
   "execution_count": 4,
   "outputs": [
    {
     "name": "stdout",
     "output_type": "stream",
     "text": [
      "Loading beats took 6.5s\n",
      "[]\n",
      "<class 'ecgclassification.beat.Beat'>\n",
      "Beat signal lenght:  1024\n",
      "Beat from patient:  100\n",
      "Beat annotation symbol:  N\n",
      "Numeric representation of corresponding AAMI class:  0\n"
     ]
    },
    {
     "data": {
      "text/plain": "<Figure size 432x288 with 1 Axes>",
      "image/png": "[encoded data removed]"
     },
     "metadata": {
      "needs_background": "light"
     },
     "output_type": "display_data"
    }
   ],
   "source": [
    "beats0 = ecg.load_beats(db, [100])\n",
    "print(beats0)\n",
    "N = beats[200]\n",
    "print(type(N))\n",
    "\n",
    "# Signal lenght will be the same as ecgc.config.window\n",
    "print('Beat signal lenght: ', len(N.signal))\n",
    "print('Beat from patient: ', N.patient)\n",
    "print('Beat annotation symbol: ', N.ba)\n",
    "print('Numeric representation of corresponding AAMI class: ', N.aami_num)\n",
    "ecg.visualize_beat(N)"
   ],
   "metadata": {
    "collapsed": false,
    "pycharm": {
     "name": "#%%\n"
    }
   }
  },
  {
   "cell_type": "code",
   "execution_count": 5,
   "outputs": [
    {
     "name": "stdout",
     "output_type": "stream",
     "text": [
      "Loading beats took 125.7s\n",
      "Loading the signals took: 49.1s\n",
      "Xtrain frequencies\n",
      "{0: 54261, 1: 1695, 2: 4669, 3: 470, 4: 4770}\n",
      "Xval frequencies\n",
      "{0: 18078, 1: 554, 2: 1519, 3: 140, 4: 1664}\n",
      "Xtest frequencies\n",
      "{0: 18132, 1: 526, 2: 1513, 3: 192, 4: 1593}\n"
     ]
    }
   ],
   "source": [
    "data = ecg.load_data_v2(db)\n",
    "X_train, X_test, y_train, y_test = train_test_split(data['data'][0], data['data'][1], test_size=0.2, random_state=1)\n",
    "X_train, X_val, y_train, y_val = train_test_split(X_train, y_train, test_size = 0.25, random_state=1)\n",
    "\n",
    "unique, counts = np.unique(y_train, return_counts=True)\n",
    "print(\"Xtrain frequencies\")\n",
    "print(dict(zip(unique, counts)))\n",
    "\n",
    "unique, counts = np.unique(y_val, return_counts=True)\n",
    "print(\"Xval frequencies\")\n",
    "print(dict(zip(unique, counts)))\n",
    "\n",
    "unique, counts = np.unique(y_test, return_counts=True)\n",
    "print(\"Xtest frequencies\")\n",
    "print(dict(zip(unique, counts)))"
   ],
   "metadata": {
    "collapsed": false,
    "pycharm": {
     "name": "#%%\n"
    }
   }
  }
 ],
 "metadata": {
  "kernelspec": {
   "display_name": "Python 3",
   "language": "python",
   "name": "python3"
  },
  "language_info": {
   "codemirror_mode": {
    "name": "ipython",
    "version": 2
   },
   "file_extension": ".py",
   "mimetype": "text/x-python",
   "name": "python",
   "nbconvert_exporter": "python",
   "pygments_lexer": "ipython2",
   "version": "2.7.6"
  }
 },
 "nbformat": 4,
 "nbformat_minor": 0
}