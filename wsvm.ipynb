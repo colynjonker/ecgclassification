{
 "cells": [
  {
   "cell_type": "code",
   "execution_count": 1,
   "metadata": {
    "collapsed": true
   },
   "outputs": [
    {
     "name": "stdout",
     "output_type": "stream",
     "text": [
      "Loading beats took 23.5s\n",
      "Loading the signals took: 9.0s\n"
     ]
    }
   ],
   "source": [
    "from sklearn.model_selection import train_test_split\n",
    "\n",
    "import ecgclassification as ecgc\n",
    "from sklearn import svm\n",
    "import numpy as np\n",
    "import pylab as pl\n",
    "from ecgclassification import linear_weight\n",
    "\n",
    "db = 'ecgclassification/mitdb/'\n",
    "\n",
    "data = ecgc.load_data(db, classes='aami')\n",
    "x_train =  data['train'][0]\n",
    "y_train = data['train'][1]\n",
    "x_test = data['tests'][0]\n",
    "y_test = data['tests'][1]"
   ]
  },
  {
   "cell_type": "code",
   "execution_count": null,
   "outputs": [
    {
     "name": "stdout",
     "output_type": "stream",
     "text": [
      "{0: 1.1227204228274401, 1: 54.68723404255319, 2: 13.581505944517833, 3: 124.16908212560386, 4: 6425.75}\n",
      "(51406, 1024)\n",
      "(51406,)\n"
     ]
    }
   ],
   "source": [
    "class_weight = linear_weight(y_train)\n",
    "\n",
    "svm = svm.SVC(kernel='linear', gamma=0.01,class_weight=class_weight)\n",
    "svm.fit(x_train, y_train)\n",
    "\n",
    "y_pred = svm.predict(x_test)"
   ],
   "metadata": {
    "collapsed": false,
    "pycharm": {
     "name": "#%%\n",
     "is_executing": true
    }
   }
  },
  {
   "cell_type": "code",
   "execution_count": null,
   "outputs": [],
   "source": [
    "from sklearn.metrics import accuracy_score\n",
    "\n",
    "print('Accuracy traindata')\n",
    "print(accuracy_score(y_train, y_pred))\n",
    "\n",
    "print('')\n",
    "print('Accuracy testdata')\n",
    "print(accuracy_score(y_test, y_pred))\n"
   ],
   "metadata": {
    "collapsed": false,
    "pycharm": {
     "name": "#%%\n",
     "is_executing": true
    }
   }
  }
 ],
 "metadata": {
  "kernelspec": {
   "display_name": "Python 3",
   "language": "python",
   "name": "python3"
  },
  "language_info": {
   "codemirror_mode": {
    "name": "ipython",
    "version": 2
   },
   "file_extension": ".py",
   "mimetype": "text/x-python",
   "name": "python",
   "nbconvert_exporter": "python",
   "pygments_lexer": "ipython2",
   "version": "2.7.6"
  }
 },
 "nbformat": 4,
 "nbformat_minor": 0
}