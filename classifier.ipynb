{
 "cells": [
  {
   "cell_type": "code",
   "execution_count": 1,
   "metadata": {
    "collapsed": true
   },
   "outputs": [
    {
     "name": "stdout",
     "output_type": "stream",
     "text": [
      "Loading beats took 29.3s\n",
      "Loading the signals took: 9.9s\n"
     ]
    }
   ],
   "source": [
    "import keras\n",
    "import sklearn.utils.class_weight\n",
    "from keras.layers import Dropout, Flatten, Conv1D, MaxPooling1D, BatchNormalization\n",
    "from keras.utils.np_utils import to_categorical\n",
    "from sklearn.model_selection import train_test_split\n",
    "from sklearn.utils import compute_class_weight\n",
    "\n",
    "import ecgclassification as ecgc\n",
    "import numpy as np\n",
    "\n",
    "import tensorflow as tf\n",
    "from tensorflow.keras.models import Sequential\n",
    "from tensorflow.keras.layers import Dense\n",
    "\n",
    "from ecgclassification import linear_weight, multiclass_temporal_class_weights, precision_m, f1_m, recall_m\n",
    "from ecgclassification.loss import *\n",
    "\n",
    "db = 'ecgclassification/mitdb/'\n",
    "\n",
    "\n",
    "data = ecgc.load_data_v2(db, classes='aami')\n",
    "\n",
    "\n"
   ]
  },
  {
   "cell_type": "markdown",
   "source": [
    "[https://datascience.stackexchange.com/questions/13490/how-to-set-class-weights-for-imbalanced-classes-in-keras](here)"
   ],
   "metadata": {
    "collapsed": false,
    "pycharm": {
     "name": "#%% md\n"
    }
   }
  },
  {
   "cell_type": "markdown",
   "source": [
    "Classifier weighted CNN"
   ],
   "metadata": {
    "collapsed": false,
    "pycharm": {
     "name": "#%% md\n"
    }
   }
  },
  {
   "cell_type": "code",
   "execution_count": 2,
   "outputs": [
    {
     "name": "stderr",
     "output_type": "stream",
     "text": [
      "c:\\python39\\lib\\site-packages\\sklearn\\utils\\validation.py:70: FutureWarning: Pass classes=[0 1 2 3 4], y=[0 0 0 ... 0 0 0] as keyword args. From version 1.0 (renaming of 0.25) passing these as positional arguments will result in an error\n",
      "  warnings.warn(f\"Pass {args_msg} as keyword args. From version \"\n"
     ]
    },
    {
     "data": {
      "text/plain": "<Figure size 432x288 with 1 Axes>",
      "image/png": "[encoded data removed]"
     },
     "metadata": {
      "needs_background": "light"
     },
     "output_type": "display_data"
    },
    {
     "name": "stdout",
     "output_type": "stream",
     "text": [
      "3\n",
      "(65865, 1024, 1)\n",
      "(21955, 1024)\n",
      "(21956, 1024, 1)\n",
      "(65865,)\n",
      "(21955,)\n",
      "(21956,)\n"
     ]
    }
   ],
   "source": [
    "#X_train, y_train = data['train'][0], data['train'][1]\n",
    "#X_test, y_test = data['tests'][0], data['tests'][1]\n",
    "#X_val, y_val = data['valid'][0], data['valid'][1]\n",
    "X_train, X_test, y_train, y_test = train_test_split(data['data'][0], data['data'][1], test_size=0.2, random_state=1)\n",
    "X_train, X_val, y_train, y_val = train_test_split(X_train, y_train, test_size = 0.25, random_state=1)\n",
    "\n",
    "cw = compute_class_weight('balanced', np.unique(y_train), y_train)\n",
    "class_weight = ecgc.linear_weight(y_train)\n",
    "n_features = 1\n",
    "n_classes = 5\n",
    "batch_size = X_train.shape[0]\n",
    "sequence_size = X_train.shape[1]\n",
    "X_train = X_train.reshape([batch_size, sequence_size, 1])\n",
    "ecgc.visualize_signal(X_train[0])\n",
    "X_train = tf.convert_to_tensor(X_train)\n",
    "X_val = tf.convert_to_tensor(X_val)\n",
    "X_test = X_test.reshape([X_test.shape[0], X_test.shape[1], 1])\n",
    "X_test = tf.convert_to_tensor(X_test)\n",
    "\n",
    "y_train = tf.convert_to_tensor(y_train,dtype=np.float32)\n",
    "y_test = tf.convert_to_tensor(y_test,dtype=np.float32)\n",
    "y_val = tf.convert_to_tensor(y_val, dtype=np.float32)\n",
    "\n",
    "print(X_train.ndim)\n",
    "print(X_train.shape)\n",
    "print(X_val.shape)\n",
    "print(X_test.shape)\n",
    "print(y_train.shape)\n",
    "print(y_val.shape)\n",
    "print(y_test.shape)\n",
    "\n",
    "input_shape = (None, sequence_size, n_features)"
   ],
   "metadata": {
    "collapsed": false,
    "pycharm": {
     "name": "#%%\n"
    }
   }
  },
  {
   "cell_type": "markdown",
   "source": [
    "We will now print out the frequency of each class in the Training, Validation and Test set respectively"
   ],
   "metadata": {
    "collapsed": false,
    "pycharm": {
     "name": "#%% md\n"
    }
   }
  },
  {
   "cell_type": "code",
   "execution_count": 3,
   "outputs": [
    {
     "name": "stdout",
     "output_type": "stream",
     "text": [
      "Xtrain frequencies\n",
      "{0.0: 54261, 1.0: 1695, 2.0: 4669, 3.0: 470, 4.0: 4770}\n",
      "Xval frequencies\n",
      "{0.0: 18078, 1.0: 554, 2.0: 1519, 3.0: 140, 4.0: 1664}\n",
      "Xtest frequencies\n",
      "{0.0: 18132, 1.0: 526, 2.0: 1513, 3.0: 192, 4.0: 1593}\n"
     ]
    }
   ],
   "source": [
    "unique, counts = np.unique(y_train, return_counts=True)\n",
    "print(\"Xtrain frequencies\")\n",
    "print(dict(zip(unique, counts)))\n",
    "\n",
    "unique, counts = np.unique(y_val, return_counts=True)\n",
    "print(\"Xval frequencies\")\n",
    "print(dict(zip(unique, counts)))\n",
    "\n",
    "unique, counts = np.unique(y_test, return_counts=True)\n",
    "print(\"Xtest frequencies\")\n",
    "print(dict(zip(unique, counts)))"
   ],
   "metadata": {
    "collapsed": false,
    "pycharm": {
     "name": "#%%\n"
    }
   }
  },
  {
   "cell_type": "markdown",
   "source": [
    "Now that we have reshaped our data for the CNN we can define the layers and loss functions."
   ],
   "metadata": {
    "collapsed": false,
    "pycharm": {
     "name": "#%% md\n"
    }
   }
  },
  {
   "cell_type": "code",
   "execution_count": null,
   "outputs": [
    {
     "name": "stdout",
     "output_type": "stream",
     "text": [
      "{0: 0.24277105103112734, 1: 7.771681415929203, 2: 2.821375026772328, 3: 28.027659574468085, 4: 2.761635220125786}\n",
      "Epoch 1/30\n",
      "WARNING:tensorflow:From c:\\python39\\lib\\site-packages\\tensorflow\\python\\ops\\array_ops.py:5043: calling gather (from tensorflow.python.ops.array_ops) with validate_indices is deprecated and will be removed in a future version.\n",
      "Instructions for updating:\n",
      "The `validate_indices` argument has no effect. Indices are always validated on CPU and never validated on GPU.\n",
      "2059/2059 - 84s - loss: 0.6185 - categorical_accuracy: 0.8769 - f1_m: 0.3065 - precision_m: 0.1837 - recall_m: 1.0363 - val_loss: 0.6004 - val_categorical_accuracy: 0.8768 - val_f1_m: 0.2980 - val_precision_m: 0.1788 - val_recall_m: 1.0088\n",
      "Epoch 2/30\n",
      "2059/2059 - 56s - loss: 0.6030 - categorical_accuracy: 0.8674 - f1_m: 0.2985 - precision_m: 0.1788 - recall_m: 1.0125 - val_loss: 0.6001 - val_categorical_accuracy: 0.8714 - val_f1_m: 0.2977 - val_precision_m: 0.1786 - val_recall_m: 1.0064\n",
      "Epoch 3/30\n",
      "2059/2059 - 62s - loss: 0.5990 - categorical_accuracy: 0.8656 - f1_m: 0.2970 - precision_m: 0.1779 - recall_m: 1.0078 - val_loss: 0.5923 - val_categorical_accuracy: 0.8638 - val_f1_m: 0.2957 - val_precision_m: 0.1774 - val_recall_m: 1.0001\n",
      "Epoch 4/30\n",
      "2059/2059 - 76s - loss: 0.5966 - categorical_accuracy: 0.8623 - f1_m: 0.2968 - precision_m: 0.1779 - recall_m: 1.0082 - val_loss: 0.5909 - val_categorical_accuracy: 0.8648 - val_f1_m: 0.2963 - val_precision_m: 0.1777 - val_recall_m: 1.0027\n",
      "Epoch 5/30\n",
      "2059/2059 - 82s - loss: 0.5961 - categorical_accuracy: 0.8642 - f1_m: 0.2953 - precision_m: 0.1769 - recall_m: 0.9984 - val_loss: 0.5918 - val_categorical_accuracy: 0.8575 - val_f1_m: 0.2955 - val_precision_m: 0.1773 - val_recall_m: 0.9995\n",
      "Epoch 6/30\n",
      "2059/2059 - 85s - loss: 0.5951 - categorical_accuracy: 0.8635 - f1_m: 0.2958 - precision_m: 0.1771 - recall_m: 1.0017 - val_loss: 0.5857 - val_categorical_accuracy: 0.8547 - val_f1_m: 0.2957 - val_precision_m: 0.1773 - val_recall_m: 1.0000\n",
      "Epoch 7/30\n",
      "2059/2059 - 80s - loss: 0.5933 - categorical_accuracy: 0.8611 - f1_m: 0.2952 - precision_m: 0.1767 - recall_m: 1.0020 - val_loss: 0.5867 - val_categorical_accuracy: 0.8622 - val_f1_m: 0.2951 - val_precision_m: 0.1770 - val_recall_m: 0.9984\n",
      "Epoch 8/30\n",
      "2059/2059 - 80s - loss: 0.5939 - categorical_accuracy: 0.8618 - f1_m: 0.2947 - precision_m: 0.1766 - recall_m: 0.9998 - val_loss: 0.5906 - val_categorical_accuracy: 0.8674 - val_f1_m: 0.2955 - val_precision_m: 0.1773 - val_recall_m: 0.9992\n",
      "Epoch 9/30\n",
      "2059/2059 - 69s - loss: 0.5927 - categorical_accuracy: 0.8610 - f1_m: 0.2949 - precision_m: 0.1767 - recall_m: 1.0009 - val_loss: 0.5930 - val_categorical_accuracy: 0.8696 - val_f1_m: 0.2956 - val_precision_m: 0.1773 - val_recall_m: 0.9997\n",
      "Epoch 10/30\n",
      "2059/2059 - 83s - loss: 0.5927 - categorical_accuracy: 0.8604 - f1_m: 0.2947 - precision_m: 0.1766 - recall_m: 0.9987 - val_loss: 0.5851 - val_categorical_accuracy: 0.8553 - val_f1_m: 0.2950 - val_precision_m: 0.1769 - val_recall_m: 0.9978\n",
      "Epoch 11/30\n",
      "2059/2059 - 76s - loss: 0.5926 - categorical_accuracy: 0.8632 - f1_m: 0.2949 - precision_m: 0.1766 - recall_m: 1.0003 - val_loss: 0.5882 - val_categorical_accuracy: 0.8642 - val_f1_m: 0.2954 - val_precision_m: 0.1772 - val_recall_m: 0.9993\n",
      "Epoch 12/30\n",
      "2059/2059 - 76s - loss: 0.5909 - categorical_accuracy: 0.8592 - f1_m: 0.2952 - precision_m: 0.1768 - recall_m: 1.0020 - val_loss: 0.5767 - val_categorical_accuracy: 0.8463 - val_f1_m: 0.2952 - val_precision_m: 0.1771 - val_recall_m: 0.9983\n",
      "Epoch 13/30\n",
      "2059/2059 - 79s - loss: 0.5830 - categorical_accuracy: 0.8473 - f1_m: 0.2951 - precision_m: 0.1767 - recall_m: 1.0024 - val_loss: 0.5750 - val_categorical_accuracy: 0.8481 - val_f1_m: 0.2951 - val_precision_m: 0.1770 - val_recall_m: 0.9985\n",
      "Epoch 14/30\n",
      "2059/2059 - 69s - loss: 0.5806 - categorical_accuracy: 0.8492 - f1_m: 0.2946 - precision_m: 0.1765 - recall_m: 0.9985 - val_loss: 0.5758 - val_categorical_accuracy: 0.8502 - val_f1_m: 0.2952 - val_precision_m: 0.1771 - val_recall_m: 0.9985\n",
      "Epoch 15/30\n"
     ]
    }
   ],
   "source": [
    "model = Sequential()\n",
    "model.add(Conv1D(\n",
    "        input_shape = input_shape,\n",
    "        filters=8,\n",
    "        kernel_size=4,\n",
    "        padding='same',\n",
    "        activation='relu',\n",
    "    ))\n",
    "# batch normalization\n",
    "model.add(BatchNormalization())\n",
    "model.add(MaxPooling1D(pool_size=2))\n",
    "#extra convolutional block\n",
    "model.add(Conv1D(\n",
    "        filters=8,\n",
    "        kernel_size=4,\n",
    "        padding='same',\n",
    "        activation='relu',\n",
    "    ))\n",
    "# batch normalization\n",
    "model.add(BatchNormalization())\n",
    "model.add(MaxPooling1D(pool_size=2))\n",
    "model.add(Conv1D(\n",
    "        filters=8,\n",
    "        kernel_size=4,\n",
    "        padding='same',\n",
    "        activation='relu',\n",
    "    ))\n",
    "# batch normalization\n",
    "model.add(BatchNormalization())\n",
    "model.add(MaxPooling1D(pool_size=2))\n",
    "model.add(Flatten())\n",
    "model.add(Dropout(0.5))\n",
    "#output layers\n",
    "model.add(Dense(128, activation='relu'))\n",
    "model.add(Dense(64, activation='relu'))\n",
    "model.add(Dense(n_classes, activation='softmax'))\n",
    "\n",
    "loss = SparseCategoricalFocalLoss(gamma=1, from_logits=True)\n",
    "#loss = keras.losses.SparseCategoricalCrossentropy()\n",
    "#loss=f1_weighted()\n",
    "\n",
    "metrics = [\n",
    "    \"categorical_accuracy\",\n",
    "    f1_m,\n",
    "    precision_m,\n",
    "    recall_m\n",
    "\n",
    "]\n",
    "model.compile(\n",
    "    optimizer='nadam',\n",
    "    loss=loss,\n",
    "    metrics=metrics,\n",
    ")\n",
    "\n",
    "cw = {i : cw[i] for i in range(5)}\n",
    "sample_weight = sklearn.utils.class_weight.compute_sample_weight(class_weight, y_train )\n",
    "print(cw)\n",
    "history = model.fit(X_train,\n",
    "                    y_train,\n",
    "                    epochs=30,\n",
    "                    batch_size=32,\n",
    "                    #sample_weight=sample_weight,\n",
    "                    #class_weight=cw,\n",
    "                    validation_data=(X_val, y_val),\n",
    "                    verbose=2)\n",
    "model.summary()"
   ],
   "metadata": {
    "collapsed": false,
    "pycharm": {
     "name": "#%%\n",
     "is_executing": true
    }
   }
  },
  {
   "cell_type": "code",
   "execution_count": null,
   "outputs": [],
   "source": [
    "ecgc.evaluate_model(model, X_test, y_test, input_format='aami_num', keras_evaluation=True)"
   ],
   "metadata": {
    "collapsed": false,
    "pycharm": {
     "name": "#%%\n",
     "is_executing": true
    }
   }
  },
  {
   "cell_type": "code",
   "execution_count": null,
   "outputs": [],
   "source": [
    "model.save('models')"
   ],
   "metadata": {
    "collapsed": false,
    "pycharm": {
     "name": "#%%\n",
     "is_executing": true
    }
   }
  }
 ],
 "metadata": {
  "kernelspec": {
   "display_name": "Python 3",
   "language": "python",
   "name": "python3"
  },
  "language_info": {
   "codemirror_mode": {
    "name": "ipython",
    "version": 2
   },
   "file_extension": ".py",
   "mimetype": "text/x-python",
   "name": "python",
   "nbconvert_exporter": "python",
   "pygments_lexer": "ipython2",
   "version": "2.7.6"
  }
 },
 "nbformat": 4,
 "nbformat_minor": 0
}